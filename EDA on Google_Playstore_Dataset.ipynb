{
 "cells": [
  {
   "cell_type": "code",
   "execution_count": null,
   "id": "ced737e1",
   "metadata": {},
   "outputs": [],
   "source": [
    "import pandas as pd \n",
    "import numpy as np\n",
    "import matplotlib.pyplot as plt            #Importing Necessary Libraries.\n",
    "import seaborn as sns\n",
    "%matplotlib inline\n",
    "import warnings\n",
    "warnings.filterwarnings('ignore')    "
   ]
  },
  {
   "cell_type": "markdown",
   "id": "ddc3fafe",
   "metadata": {},
   "source": [
    "# 1.Data Ingestion/Data collection"
   ]
  },
  {
   "cell_type": "code",
   "execution_count": 472,
   "id": "94eb68fa",
   "metadata": {},
   "outputs": [],
   "source": [
    "data=pd.read_csv(r\"C:\\Users\\Student\\Downloads\\googleplaystore.csv\")   #Data Loading."
   ]
  },
  {
   "cell_type": "markdown",
   "id": "df68d496",
   "metadata": {},
   "source": [
    "# 2.EDA"
   ]
  },
  {
   "cell_type": "markdown",
   "id": "0100c2e1",
   "metadata": {},
   "source": [
    "# a.Data Profiling"
   ]
  },
  {
   "cell_type": "code",
   "execution_count": 473,
   "id": "41f1d09a",
   "metadata": {},
   "outputs": [
    {
     "data": {
      "text/html": [
       "<div>\n",
       "<style scoped>\n",
       "    .dataframe tbody tr th:only-of-type {\n",
       "        vertical-align: middle;\n",
       "    }\n",
       "\n",
       "    .dataframe tbody tr th {\n",
       "        vertical-align: top;\n",
       "    }\n",
       "\n",
       "    .dataframe thead th {\n",
       "        text-align: right;\n",
       "    }\n",
       "</style>\n",
       "<table border=\"1\" class=\"dataframe\">\n",
       "  <thead>\n",
       "    <tr style=\"text-align: right;\">\n",
       "      <th></th>\n",
       "      <th>App</th>\n",
       "      <th>Category</th>\n",
       "      <th>Rating</th>\n",
       "      <th>Reviews</th>\n",
       "      <th>Size</th>\n",
       "      <th>Installs</th>\n",
       "      <th>Type</th>\n",
       "      <th>Price</th>\n",
       "      <th>Content Rating</th>\n",
       "      <th>Genres</th>\n",
       "      <th>Last Updated</th>\n",
       "      <th>Current Ver</th>\n",
       "      <th>Android Ver</th>\n",
       "    </tr>\n",
       "  </thead>\n",
       "  <tbody>\n",
       "    <tr>\n",
       "      <th>0</th>\n",
       "      <td>Photo Editor &amp; Candy Camera &amp; Grid &amp; ScrapBook</td>\n",
       "      <td>ART_AND_DESIGN</td>\n",
       "      <td>4.1</td>\n",
       "      <td>159</td>\n",
       "      <td>19M</td>\n",
       "      <td>10,000+</td>\n",
       "      <td>Free</td>\n",
       "      <td>0</td>\n",
       "      <td>Everyone</td>\n",
       "      <td>Art &amp; Design</td>\n",
       "      <td>January 7, 2018</td>\n",
       "      <td>1.0.0</td>\n",
       "      <td>4.0.3 and up</td>\n",
       "    </tr>\n",
       "    <tr>\n",
       "      <th>1</th>\n",
       "      <td>Coloring book moana</td>\n",
       "      <td>ART_AND_DESIGN</td>\n",
       "      <td>3.9</td>\n",
       "      <td>967</td>\n",
       "      <td>14M</td>\n",
       "      <td>500,000+</td>\n",
       "      <td>Free</td>\n",
       "      <td>0</td>\n",
       "      <td>Everyone</td>\n",
       "      <td>Art &amp; Design;Pretend Play</td>\n",
       "      <td>January 15, 2018</td>\n",
       "      <td>2.0.0</td>\n",
       "      <td>4.0.3 and up</td>\n",
       "    </tr>\n",
       "    <tr>\n",
       "      <th>2</th>\n",
       "      <td>U Launcher Lite – FREE Live Cool Themes, Hide ...</td>\n",
       "      <td>ART_AND_DESIGN</td>\n",
       "      <td>4.7</td>\n",
       "      <td>87510</td>\n",
       "      <td>8.7M</td>\n",
       "      <td>5,000,000+</td>\n",
       "      <td>Free</td>\n",
       "      <td>0</td>\n",
       "      <td>Everyone</td>\n",
       "      <td>Art &amp; Design</td>\n",
       "      <td>August 1, 2018</td>\n",
       "      <td>1.2.4</td>\n",
       "      <td>4.0.3 and up</td>\n",
       "    </tr>\n",
       "    <tr>\n",
       "      <th>3</th>\n",
       "      <td>Sketch - Draw &amp; Paint</td>\n",
       "      <td>ART_AND_DESIGN</td>\n",
       "      <td>4.5</td>\n",
       "      <td>215644</td>\n",
       "      <td>25M</td>\n",
       "      <td>50,000,000+</td>\n",
       "      <td>Free</td>\n",
       "      <td>0</td>\n",
       "      <td>Teen</td>\n",
       "      <td>Art &amp; Design</td>\n",
       "      <td>June 8, 2018</td>\n",
       "      <td>Varies with device</td>\n",
       "      <td>4.2 and up</td>\n",
       "    </tr>\n",
       "    <tr>\n",
       "      <th>4</th>\n",
       "      <td>Pixel Draw - Number Art Coloring Book</td>\n",
       "      <td>ART_AND_DESIGN</td>\n",
       "      <td>4.3</td>\n",
       "      <td>967</td>\n",
       "      <td>2.8M</td>\n",
       "      <td>100,000+</td>\n",
       "      <td>Free</td>\n",
       "      <td>0</td>\n",
       "      <td>Everyone</td>\n",
       "      <td>Art &amp; Design;Creativity</td>\n",
       "      <td>June 20, 2018</td>\n",
       "      <td>1.1</td>\n",
       "      <td>4.4 and up</td>\n",
       "    </tr>\n",
       "  </tbody>\n",
       "</table>\n",
       "</div>"
      ],
      "text/plain": [
       "                                                 App        Category  Rating  \\\n",
       "0     Photo Editor & Candy Camera & Grid & ScrapBook  ART_AND_DESIGN     4.1   \n",
       "1                                Coloring book moana  ART_AND_DESIGN     3.9   \n",
       "2  U Launcher Lite – FREE Live Cool Themes, Hide ...  ART_AND_DESIGN     4.7   \n",
       "3                              Sketch - Draw & Paint  ART_AND_DESIGN     4.5   \n",
       "4              Pixel Draw - Number Art Coloring Book  ART_AND_DESIGN     4.3   \n",
       "\n",
       "  Reviews  Size     Installs  Type Price Content Rating  \\\n",
       "0     159   19M      10,000+  Free     0       Everyone   \n",
       "1     967   14M     500,000+  Free     0       Everyone   \n",
       "2   87510  8.7M   5,000,000+  Free     0       Everyone   \n",
       "3  215644   25M  50,000,000+  Free     0           Teen   \n",
       "4     967  2.8M     100,000+  Free     0       Everyone   \n",
       "\n",
       "                      Genres      Last Updated         Current Ver  \\\n",
       "0               Art & Design   January 7, 2018               1.0.0   \n",
       "1  Art & Design;Pretend Play  January 15, 2018               2.0.0   \n",
       "2               Art & Design    August 1, 2018               1.2.4   \n",
       "3               Art & Design      June 8, 2018  Varies with device   \n",
       "4    Art & Design;Creativity     June 20, 2018                 1.1   \n",
       "\n",
       "    Android Ver  \n",
       "0  4.0.3 and up  \n",
       "1  4.0.3 and up  \n",
       "2  4.0.3 and up  \n",
       "3    4.2 and up  \n",
       "4    4.4 and up  "
      ]
     },
     "execution_count": 473,
     "metadata": {},
     "output_type": "execute_result"
    }
   ],
   "source": [
    "data.head()"
   ]
  },
  {
   "cell_type": "code",
   "execution_count": 474,
   "id": "74bdf2c5",
   "metadata": {},
   "outputs": [
    {
     "data": {
      "text/html": [
       "<div>\n",
       "<style scoped>\n",
       "    .dataframe tbody tr th:only-of-type {\n",
       "        vertical-align: middle;\n",
       "    }\n",
       "\n",
       "    .dataframe tbody tr th {\n",
       "        vertical-align: top;\n",
       "    }\n",
       "\n",
       "    .dataframe thead th {\n",
       "        text-align: right;\n",
       "    }\n",
       "</style>\n",
       "<table border=\"1\" class=\"dataframe\">\n",
       "  <thead>\n",
       "    <tr style=\"text-align: right;\">\n",
       "      <th></th>\n",
       "      <th>App</th>\n",
       "      <th>Category</th>\n",
       "      <th>Rating</th>\n",
       "      <th>Reviews</th>\n",
       "      <th>Size</th>\n",
       "      <th>Installs</th>\n",
       "      <th>Type</th>\n",
       "      <th>Price</th>\n",
       "      <th>Content Rating</th>\n",
       "      <th>Genres</th>\n",
       "      <th>Last Updated</th>\n",
       "      <th>Current Ver</th>\n",
       "      <th>Android Ver</th>\n",
       "    </tr>\n",
       "  </thead>\n",
       "  <tbody>\n",
       "    <tr>\n",
       "      <th>10836</th>\n",
       "      <td>Sya9a Maroc - FR</td>\n",
       "      <td>FAMILY</td>\n",
       "      <td>4.5</td>\n",
       "      <td>38</td>\n",
       "      <td>53M</td>\n",
       "      <td>5,000+</td>\n",
       "      <td>Free</td>\n",
       "      <td>0</td>\n",
       "      <td>Everyone</td>\n",
       "      <td>Education</td>\n",
       "      <td>July 25, 2017</td>\n",
       "      <td>1.48</td>\n",
       "      <td>4.1 and up</td>\n",
       "    </tr>\n",
       "    <tr>\n",
       "      <th>10837</th>\n",
       "      <td>Fr. Mike Schmitz Audio Teachings</td>\n",
       "      <td>FAMILY</td>\n",
       "      <td>5.0</td>\n",
       "      <td>4</td>\n",
       "      <td>3.6M</td>\n",
       "      <td>100+</td>\n",
       "      <td>Free</td>\n",
       "      <td>0</td>\n",
       "      <td>Everyone</td>\n",
       "      <td>Education</td>\n",
       "      <td>July 6, 2018</td>\n",
       "      <td>1.0</td>\n",
       "      <td>4.1 and up</td>\n",
       "    </tr>\n",
       "    <tr>\n",
       "      <th>10838</th>\n",
       "      <td>Parkinson Exercices FR</td>\n",
       "      <td>MEDICAL</td>\n",
       "      <td>NaN</td>\n",
       "      <td>3</td>\n",
       "      <td>9.5M</td>\n",
       "      <td>1,000+</td>\n",
       "      <td>Free</td>\n",
       "      <td>0</td>\n",
       "      <td>Everyone</td>\n",
       "      <td>Medical</td>\n",
       "      <td>January 20, 2017</td>\n",
       "      <td>1.0</td>\n",
       "      <td>2.2 and up</td>\n",
       "    </tr>\n",
       "    <tr>\n",
       "      <th>10839</th>\n",
       "      <td>The SCP Foundation DB fr nn5n</td>\n",
       "      <td>BOOKS_AND_REFERENCE</td>\n",
       "      <td>4.5</td>\n",
       "      <td>114</td>\n",
       "      <td>Varies with device</td>\n",
       "      <td>1,000+</td>\n",
       "      <td>Free</td>\n",
       "      <td>0</td>\n",
       "      <td>Mature 17+</td>\n",
       "      <td>Books &amp; Reference</td>\n",
       "      <td>January 19, 2015</td>\n",
       "      <td>Varies with device</td>\n",
       "      <td>Varies with device</td>\n",
       "    </tr>\n",
       "    <tr>\n",
       "      <th>10840</th>\n",
       "      <td>iHoroscope - 2018 Daily Horoscope &amp; Astrology</td>\n",
       "      <td>LIFESTYLE</td>\n",
       "      <td>4.5</td>\n",
       "      <td>398307</td>\n",
       "      <td>19M</td>\n",
       "      <td>10,000,000+</td>\n",
       "      <td>Free</td>\n",
       "      <td>0</td>\n",
       "      <td>Everyone</td>\n",
       "      <td>Lifestyle</td>\n",
       "      <td>July 25, 2018</td>\n",
       "      <td>Varies with device</td>\n",
       "      <td>Varies with device</td>\n",
       "    </tr>\n",
       "  </tbody>\n",
       "</table>\n",
       "</div>"
      ],
      "text/plain": [
       "                                                 App             Category  \\\n",
       "10836                               Sya9a Maroc - FR               FAMILY   \n",
       "10837               Fr. Mike Schmitz Audio Teachings               FAMILY   \n",
       "10838                         Parkinson Exercices FR              MEDICAL   \n",
       "10839                  The SCP Foundation DB fr nn5n  BOOKS_AND_REFERENCE   \n",
       "10840  iHoroscope - 2018 Daily Horoscope & Astrology            LIFESTYLE   \n",
       "\n",
       "       Rating Reviews                Size     Installs  Type Price  \\\n",
       "10836     4.5      38                 53M       5,000+  Free     0   \n",
       "10837     5.0       4                3.6M         100+  Free     0   \n",
       "10838     NaN       3                9.5M       1,000+  Free     0   \n",
       "10839     4.5     114  Varies with device       1,000+  Free     0   \n",
       "10840     4.5  398307                 19M  10,000,000+  Free     0   \n",
       "\n",
       "      Content Rating             Genres      Last Updated         Current Ver  \\\n",
       "10836       Everyone          Education     July 25, 2017                1.48   \n",
       "10837       Everyone          Education      July 6, 2018                 1.0   \n",
       "10838       Everyone            Medical  January 20, 2017                 1.0   \n",
       "10839     Mature 17+  Books & Reference  January 19, 2015  Varies with device   \n",
       "10840       Everyone          Lifestyle     July 25, 2018  Varies with device   \n",
       "\n",
       "              Android Ver  \n",
       "10836          4.1 and up  \n",
       "10837          4.1 and up  \n",
       "10838          2.2 and up  \n",
       "10839  Varies with device  \n",
       "10840  Varies with device  "
      ]
     },
     "execution_count": 474,
     "metadata": {},
     "output_type": "execute_result"
    }
   ],
   "source": [
    "data.tail()"
   ]
  },
  {
   "cell_type": "code",
   "execution_count": 475,
   "id": "bcca1b92",
   "metadata": {},
   "outputs": [
    {
     "data": {
      "text/html": [
       "<div>\n",
       "<style scoped>\n",
       "    .dataframe tbody tr th:only-of-type {\n",
       "        vertical-align: middle;\n",
       "    }\n",
       "\n",
       "    .dataframe tbody tr th {\n",
       "        vertical-align: top;\n",
       "    }\n",
       "\n",
       "    .dataframe thead th {\n",
       "        text-align: right;\n",
       "    }\n",
       "</style>\n",
       "<table border=\"1\" class=\"dataframe\">\n",
       "  <thead>\n",
       "    <tr style=\"text-align: right;\">\n",
       "      <th></th>\n",
       "      <th>App</th>\n",
       "      <th>Category</th>\n",
       "      <th>Rating</th>\n",
       "      <th>Reviews</th>\n",
       "      <th>Size</th>\n",
       "      <th>Installs</th>\n",
       "      <th>Type</th>\n",
       "      <th>Price</th>\n",
       "      <th>Content Rating</th>\n",
       "      <th>Genres</th>\n",
       "      <th>Last Updated</th>\n",
       "      <th>Current Ver</th>\n",
       "      <th>Android Ver</th>\n",
       "    </tr>\n",
       "  </thead>\n",
       "  <tbody>\n",
       "    <tr>\n",
       "      <th>9772</th>\n",
       "      <td>Get SMART ER/LA Opioids</td>\n",
       "      <td>MEDICAL</td>\n",
       "      <td>NaN</td>\n",
       "      <td>0</td>\n",
       "      <td>8.9M</td>\n",
       "      <td>500+</td>\n",
       "      <td>Free</td>\n",
       "      <td>0</td>\n",
       "      <td>Everyone</td>\n",
       "      <td>Medical</td>\n",
       "      <td>April 26, 2018</td>\n",
       "      <td>36</td>\n",
       "      <td>4.0.3 and up</td>\n",
       "    </tr>\n",
       "    <tr>\n",
       "      <th>4556</th>\n",
       "      <td>Day R Premium</td>\n",
       "      <td>FAMILY</td>\n",
       "      <td>4.8</td>\n",
       "      <td>51068</td>\n",
       "      <td>57M</td>\n",
       "      <td>100,000+</td>\n",
       "      <td>Paid</td>\n",
       "      <td>$4.99</td>\n",
       "      <td>Teen</td>\n",
       "      <td>Role Playing</td>\n",
       "      <td>June 21, 2018</td>\n",
       "      <td>1.574</td>\n",
       "      <td>4.0.3 and up</td>\n",
       "    </tr>\n",
       "    <tr>\n",
       "      <th>8115</th>\n",
       "      <td>LOCX Applock Lock Apps &amp; Photo</td>\n",
       "      <td>PRODUCTIVITY</td>\n",
       "      <td>4.5</td>\n",
       "      <td>208543</td>\n",
       "      <td>Varies with device</td>\n",
       "      <td>10,000,000+</td>\n",
       "      <td>Free</td>\n",
       "      <td>0</td>\n",
       "      <td>Everyone</td>\n",
       "      <td>Productivity</td>\n",
       "      <td>July 5, 2018</td>\n",
       "      <td>Varies with device</td>\n",
       "      <td>Varies with device</td>\n",
       "    </tr>\n",
       "    <tr>\n",
       "      <th>4306</th>\n",
       "      <td>CASE K-12 Math English Science</td>\n",
       "      <td>FAMILY</td>\n",
       "      <td>4.6</td>\n",
       "      <td>60</td>\n",
       "      <td>2.1M</td>\n",
       "      <td>10,000+</td>\n",
       "      <td>Free</td>\n",
       "      <td>0</td>\n",
       "      <td>Everyone</td>\n",
       "      <td>Education</td>\n",
       "      <td>May 1, 2016</td>\n",
       "      <td>1.0</td>\n",
       "      <td>2.2 and up</td>\n",
       "    </tr>\n",
       "    <tr>\n",
       "      <th>7733</th>\n",
       "      <td>QRZ Assistant</td>\n",
       "      <td>COMMUNICATION</td>\n",
       "      <td>4.2</td>\n",
       "      <td>1044</td>\n",
       "      <td>3.5M</td>\n",
       "      <td>100,000+</td>\n",
       "      <td>Free</td>\n",
       "      <td>0</td>\n",
       "      <td>Everyone</td>\n",
       "      <td>Communication</td>\n",
       "      <td>May 30, 2018</td>\n",
       "      <td>2.0</td>\n",
       "      <td>4.4 and up</td>\n",
       "    </tr>\n",
       "    <tr>\n",
       "      <th>115</th>\n",
       "      <td>Photo Editor 2018</td>\n",
       "      <td>BEAUTY</td>\n",
       "      <td>4.5</td>\n",
       "      <td>134</td>\n",
       "      <td>17M</td>\n",
       "      <td>10,000+</td>\n",
       "      <td>Free</td>\n",
       "      <td>0</td>\n",
       "      <td>Everyone</td>\n",
       "      <td>Beauty</td>\n",
       "      <td>March 1, 2018</td>\n",
       "      <td>1.20</td>\n",
       "      <td>4.0.3 and up</td>\n",
       "    </tr>\n",
       "    <tr>\n",
       "      <th>1313</th>\n",
       "      <td>Fitbit Coach</td>\n",
       "      <td>HEALTH_AND_FITNESS</td>\n",
       "      <td>4.6</td>\n",
       "      <td>28951</td>\n",
       "      <td>60M</td>\n",
       "      <td>1,000,000+</td>\n",
       "      <td>Free</td>\n",
       "      <td>0</td>\n",
       "      <td>Everyone</td>\n",
       "      <td>Health &amp; Fitness</td>\n",
       "      <td>July 16, 2018</td>\n",
       "      <td>4.4</td>\n",
       "      <td>4.4 and up</td>\n",
       "    </tr>\n",
       "    <tr>\n",
       "      <th>14</th>\n",
       "      <td>3D Color Pixel by Number - Sandbox Art Coloring</td>\n",
       "      <td>ART_AND_DESIGN</td>\n",
       "      <td>4.4</td>\n",
       "      <td>1518</td>\n",
       "      <td>37M</td>\n",
       "      <td>100,000+</td>\n",
       "      <td>Free</td>\n",
       "      <td>0</td>\n",
       "      <td>Everyone</td>\n",
       "      <td>Art &amp; Design</td>\n",
       "      <td>August 3, 2018</td>\n",
       "      <td>1.2.3</td>\n",
       "      <td>2.3 and up</td>\n",
       "    </tr>\n",
       "    <tr>\n",
       "      <th>1581</th>\n",
       "      <td>Kawaii Easy Drawing : How to draw Step by Step</td>\n",
       "      <td>LIFESTYLE</td>\n",
       "      <td>4.3</td>\n",
       "      <td>34327</td>\n",
       "      <td>8.1M</td>\n",
       "      <td>5,000,000+</td>\n",
       "      <td>Free</td>\n",
       "      <td>0</td>\n",
       "      <td>Everyone</td>\n",
       "      <td>Lifestyle</td>\n",
       "      <td>July 17, 2018</td>\n",
       "      <td>2.5.1</td>\n",
       "      <td>4.0 and up</td>\n",
       "    </tr>\n",
       "    <tr>\n",
       "      <th>4016</th>\n",
       "      <td>Expert C Programming - Learn C Coding Easily</td>\n",
       "      <td>FAMILY</td>\n",
       "      <td>4.4</td>\n",
       "      <td>77</td>\n",
       "      <td>6.9M</td>\n",
       "      <td>5,000+</td>\n",
       "      <td>Free</td>\n",
       "      <td>0</td>\n",
       "      <td>Everyone</td>\n",
       "      <td>Education</td>\n",
       "      <td>January 5, 2018</td>\n",
       "      <td>1.1.9</td>\n",
       "      <td>5.0 and up</td>\n",
       "    </tr>\n",
       "  </tbody>\n",
       "</table>\n",
       "</div>"
      ],
      "text/plain": [
       "                                                  App            Category  \\\n",
       "9772                          Get SMART ER/LA Opioids             MEDICAL   \n",
       "4556                                    Day R Premium              FAMILY   \n",
       "8115                   LOCX Applock Lock Apps & Photo        PRODUCTIVITY   \n",
       "4306                   CASE K-12 Math English Science              FAMILY   \n",
       "7733                                    QRZ Assistant       COMMUNICATION   \n",
       "115                                 Photo Editor 2018              BEAUTY   \n",
       "1313                                     Fitbit Coach  HEALTH_AND_FITNESS   \n",
       "14    3D Color Pixel by Number - Sandbox Art Coloring      ART_AND_DESIGN   \n",
       "1581   Kawaii Easy Drawing : How to draw Step by Step           LIFESTYLE   \n",
       "4016     Expert C Programming - Learn C Coding Easily              FAMILY   \n",
       "\n",
       "      Rating Reviews                Size     Installs  Type  Price  \\\n",
       "9772     NaN       0                8.9M         500+  Free      0   \n",
       "4556     4.8   51068                 57M     100,000+  Paid  $4.99   \n",
       "8115     4.5  208543  Varies with device  10,000,000+  Free      0   \n",
       "4306     4.6      60                2.1M      10,000+  Free      0   \n",
       "7733     4.2    1044                3.5M     100,000+  Free      0   \n",
       "115      4.5     134                 17M      10,000+  Free      0   \n",
       "1313     4.6   28951                 60M   1,000,000+  Free      0   \n",
       "14       4.4    1518                 37M     100,000+  Free      0   \n",
       "1581     4.3   34327                8.1M   5,000,000+  Free      0   \n",
       "4016     4.4      77                6.9M       5,000+  Free      0   \n",
       "\n",
       "     Content Rating            Genres     Last Updated         Current Ver  \\\n",
       "9772       Everyone           Medical   April 26, 2018                  36   \n",
       "4556           Teen      Role Playing    June 21, 2018               1.574   \n",
       "8115       Everyone      Productivity     July 5, 2018  Varies with device   \n",
       "4306       Everyone         Education      May 1, 2016                 1.0   \n",
       "7733       Everyone     Communication     May 30, 2018                 2.0   \n",
       "115        Everyone            Beauty    March 1, 2018                1.20   \n",
       "1313       Everyone  Health & Fitness    July 16, 2018                 4.4   \n",
       "14         Everyone      Art & Design   August 3, 2018               1.2.3   \n",
       "1581       Everyone         Lifestyle    July 17, 2018               2.5.1   \n",
       "4016       Everyone         Education  January 5, 2018               1.1.9   \n",
       "\n",
       "             Android Ver  \n",
       "9772        4.0.3 and up  \n",
       "4556        4.0.3 and up  \n",
       "8115  Varies with device  \n",
       "4306          2.2 and up  \n",
       "7733          4.4 and up  \n",
       "115         4.0.3 and up  \n",
       "1313          4.4 and up  \n",
       "14            2.3 and up  \n",
       "1581          4.0 and up  \n",
       "4016          5.0 and up  "
      ]
     },
     "execution_count": 475,
     "metadata": {},
     "output_type": "execute_result"
    }
   ],
   "source": [
    "data.sample(10)"
   ]
  },
  {
   "cell_type": "code",
   "execution_count": 476,
   "id": "6ae00d6e",
   "metadata": {},
   "outputs": [
    {
     "name": "stdout",
     "output_type": "stream",
     "text": [
      "<class 'pandas.core.frame.DataFrame'>\n",
      "RangeIndex: 10841 entries, 0 to 10840\n",
      "Data columns (total 13 columns):\n",
      " #   Column          Non-Null Count  Dtype  \n",
      "---  ------          --------------  -----  \n",
      " 0   App             10841 non-null  object \n",
      " 1   Category        10841 non-null  object \n",
      " 2   Rating          9367 non-null   float64\n",
      " 3   Reviews         10841 non-null  object \n",
      " 4   Size            10841 non-null  object \n",
      " 5   Installs        10841 non-null  object \n",
      " 6   Type            10840 non-null  object \n",
      " 7   Price           10841 non-null  object \n",
      " 8   Content Rating  10840 non-null  object \n",
      " 9   Genres          10841 non-null  object \n",
      " 10  Last Updated    10841 non-null  object \n",
      " 11  Current Ver     10833 non-null  object \n",
      " 12  Android Ver     10838 non-null  object \n",
      "dtypes: float64(1), object(12)\n",
      "memory usage: 1.1+ MB\n"
     ]
    }
   ],
   "source": [
    "data.info()                     ##There iss only one feature having datatype of 'float64' & remaining all features are having dtype of 'O'."
   ]
  },
  {
   "cell_type": "code",
   "execution_count": 477,
   "id": "08c0dffa",
   "metadata": {},
   "outputs": [
    {
     "ename": "ValueError",
     "evalue": "Unable to parse string \"3.0M\" at position 10472",
     "output_type": "error",
     "traceback": [
      "\u001b[1;31m---------------------------------------------------------------------------\u001b[0m",
      "\u001b[1;31mValueError\u001b[0m                                Traceback (most recent call last)",
      "File \u001b[1;32m~\\anaconda3\\lib\\site-packages\\pandas\\_libs\\lib.pyx:2315\u001b[0m, in \u001b[0;36mpandas._libs.lib.maybe_convert_numeric\u001b[1;34m()\u001b[0m\n",
      "\u001b[1;31mValueError\u001b[0m: Unable to parse string \"3.0M\"",
      "\nDuring handling of the above exception, another exception occurred:\n",
      "\u001b[1;31mValueError\u001b[0m                                Traceback (most recent call last)",
      "Input \u001b[1;32mIn [477]\u001b[0m, in \u001b[0;36m<cell line: 1>\u001b[1;34m()\u001b[0m\n\u001b[1;32m----> 1\u001b[0m \u001b[43mpd\u001b[49m\u001b[38;5;241;43m.\u001b[39;49m\u001b[43mto_numeric\u001b[49m\u001b[43m(\u001b[49m\u001b[43mdata\u001b[49m\u001b[43m[\u001b[49m\u001b[38;5;124;43m'\u001b[39;49m\u001b[38;5;124;43mReviews\u001b[39;49m\u001b[38;5;124;43m'\u001b[39;49m\u001b[43m]\u001b[49m\u001b[43m,\u001b[49m\u001b[43mdowncast\u001b[49m\u001b[38;5;241;43m=\u001b[39;49m\u001b[38;5;124;43m\"\u001b[39;49m\u001b[38;5;124;43minteger\u001b[39;49m\u001b[38;5;124;43m\"\u001b[39;49m\u001b[43m)\u001b[49m\n",
      "File \u001b[1;32m~\\anaconda3\\lib\\site-packages\\pandas\\core\\tools\\numeric.py:184\u001b[0m, in \u001b[0;36mto_numeric\u001b[1;34m(arg, errors, downcast)\u001b[0m\n\u001b[0;32m    182\u001b[0m coerce_numeric \u001b[38;5;241m=\u001b[39m errors \u001b[38;5;129;01mnot\u001b[39;00m \u001b[38;5;129;01min\u001b[39;00m (\u001b[38;5;124m\"\u001b[39m\u001b[38;5;124mignore\u001b[39m\u001b[38;5;124m\"\u001b[39m, \u001b[38;5;124m\"\u001b[39m\u001b[38;5;124mraise\u001b[39m\u001b[38;5;124m\"\u001b[39m)\n\u001b[0;32m    183\u001b[0m \u001b[38;5;28;01mtry\u001b[39;00m:\n\u001b[1;32m--> 184\u001b[0m     values, _ \u001b[38;5;241m=\u001b[39m \u001b[43mlib\u001b[49m\u001b[38;5;241;43m.\u001b[39;49m\u001b[43mmaybe_convert_numeric\u001b[49m\u001b[43m(\u001b[49m\n\u001b[0;32m    185\u001b[0m \u001b[43m        \u001b[49m\u001b[43mvalues\u001b[49m\u001b[43m,\u001b[49m\u001b[43m \u001b[49m\u001b[38;5;28;43mset\u001b[39;49m\u001b[43m(\u001b[49m\u001b[43m)\u001b[49m\u001b[43m,\u001b[49m\u001b[43m \u001b[49m\u001b[43mcoerce_numeric\u001b[49m\u001b[38;5;241;43m=\u001b[39;49m\u001b[43mcoerce_numeric\u001b[49m\n\u001b[0;32m    186\u001b[0m \u001b[43m    \u001b[49m\u001b[43m)\u001b[49m\n\u001b[0;32m    187\u001b[0m \u001b[38;5;28;01mexcept\u001b[39;00m (\u001b[38;5;167;01mValueError\u001b[39;00m, \u001b[38;5;167;01mTypeError\u001b[39;00m):\n\u001b[0;32m    188\u001b[0m     \u001b[38;5;28;01mif\u001b[39;00m errors \u001b[38;5;241m==\u001b[39m \u001b[38;5;124m\"\u001b[39m\u001b[38;5;124mraise\u001b[39m\u001b[38;5;124m\"\u001b[39m:\n",
      "File \u001b[1;32m~\\anaconda3\\lib\\site-packages\\pandas\\_libs\\lib.pyx:2357\u001b[0m, in \u001b[0;36mpandas._libs.lib.maybe_convert_numeric\u001b[1;34m()\u001b[0m\n",
      "\u001b[1;31mValueError\u001b[0m: Unable to parse string \"3.0M\" at position 10472"
     ]
    }
   ],
   "source": [
    "pd.to_numeric(data['Reviews'],downcast=\"integer\")   #Reviews column contain text data so we have find out that row."
   ]
  },
  {
   "cell_type": "code",
   "execution_count": null,
   "id": "eea92f2f",
   "metadata": {},
   "outputs": [],
   "source": [
    "data_copy=data.copy()   #we have to delete this row because it contains text data in Reviews feature & because of this we are getting an error  \"Unable to parse string \"3.0M\" at position 10472\" while converting dtype to integer."
   ]
  },
  {
   "cell_type": "code",
   "execution_count": null,
   "id": "311fd87d",
   "metadata": {},
   "outputs": [],
   "source": [
    "data_copy.head()"
   ]
  },
  {
   "cell_type": "code",
   "execution_count": null,
   "id": "e9d4781d",
   "metadata": {},
   "outputs": [],
   "source": [
    "data_copy=data_copy.drop(index=10472)            #we should save altered data in data_copy."
   ]
  },
  {
   "cell_type": "code",
   "execution_count": null,
   "id": "7d339290",
   "metadata": {},
   "outputs": [],
   "source": [
    "data_copy.shape                        #Dropped the perticular row."
   ]
  },
  {
   "cell_type": "code",
   "execution_count": null,
   "id": "4ac8c2d9",
   "metadata": {},
   "outputs": [],
   "source": [
    "data_copy['Reviews']=data_copy['Reviews'].astype('int64') \n"
   ]
  },
  {
   "cell_type": "code",
   "execution_count": null,
   "id": "cd611708",
   "metadata": {},
   "outputs": [],
   "source": [
    "data_copy.info()"
   ]
  },
  {
   "cell_type": "code",
   "execution_count": 478,
   "id": "9fe46f25",
   "metadata": {},
   "outputs": [
    {
     "data": {
      "text/html": [
       "<div>\n",
       "<style scoped>\n",
       "    .dataframe tbody tr th:only-of-type {\n",
       "        vertical-align: middle;\n",
       "    }\n",
       "\n",
       "    .dataframe tbody tr th {\n",
       "        vertical-align: top;\n",
       "    }\n",
       "\n",
       "    .dataframe thead th {\n",
       "        text-align: right;\n",
       "    }\n",
       "</style>\n",
       "<table border=\"1\" class=\"dataframe\">\n",
       "  <thead>\n",
       "    <tr style=\"text-align: right;\">\n",
       "      <th></th>\n",
       "      <th>count</th>\n",
       "      <th>mean</th>\n",
       "      <th>std</th>\n",
       "      <th>min</th>\n",
       "      <th>25%</th>\n",
       "      <th>50%</th>\n",
       "      <th>75%</th>\n",
       "      <th>max</th>\n",
       "    </tr>\n",
       "  </thead>\n",
       "  <tbody>\n",
       "    <tr>\n",
       "      <th>Rating</th>\n",
       "      <td>9366.0</td>\n",
       "      <td>4.191757</td>\n",
       "      <td>5.152189e-01</td>\n",
       "      <td>1.00</td>\n",
       "      <td>4.0</td>\n",
       "      <td>4.3</td>\n",
       "      <td>4.5</td>\n",
       "      <td>5.0</td>\n",
       "    </tr>\n",
       "    <tr>\n",
       "      <th>Reviews</th>\n",
       "      <td>10840.0</td>\n",
       "      <td>444152.896033</td>\n",
       "      <td>2.927761e+06</td>\n",
       "      <td>0.00</td>\n",
       "      <td>38.0</td>\n",
       "      <td>2094.0</td>\n",
       "      <td>54775.5</td>\n",
       "      <td>78158306.0</td>\n",
       "    </tr>\n",
       "    <tr>\n",
       "      <th>Size</th>\n",
       "      <td>9145.0</td>\n",
       "      <td>21.506534</td>\n",
       "      <td>2.259602e+01</td>\n",
       "      <td>0.01</td>\n",
       "      <td>4.9</td>\n",
       "      <td>13.0</td>\n",
       "      <td>30.0</td>\n",
       "      <td>100.0</td>\n",
       "    </tr>\n",
       "  </tbody>\n",
       "</table>\n",
       "</div>"
      ],
      "text/plain": [
       "           count           mean           std   min   25%     50%      75%  \\\n",
       "Rating    9366.0       4.191757  5.152189e-01  1.00   4.0     4.3      4.5   \n",
       "Reviews  10840.0  444152.896033  2.927761e+06  0.00  38.0  2094.0  54775.5   \n",
       "Size      9145.0      21.506534  2.259602e+01  0.01   4.9    13.0     30.0   \n",
       "\n",
       "                max  \n",
       "Rating          5.0  \n",
       "Reviews  78158306.0  \n",
       "Size          100.0  "
      ]
     },
     "execution_count": 478,
     "metadata": {},
     "output_type": "execute_result"
    }
   ],
   "source": [
    "data_copy.describe().T"
   ]
  },
  {
   "cell_type": "code",
   "execution_count": 479,
   "id": "5a70e194",
   "metadata": {},
   "outputs": [
    {
     "data": {
      "text/plain": [
       "Index(['App', 'Category', 'Rating', 'Reviews', 'Size', 'Installs', 'Type',\n",
       "       'Price', 'Content Rating', 'Genres', 'Last Updated', 'Current Ver',\n",
       "       'Android Ver'],\n",
       "      dtype='object')"
      ]
     },
     "execution_count": 479,
     "metadata": {},
     "output_type": "execute_result"
    }
   ],
   "source": [
    "data_copy.columns                   #displaying the features of the data_copy."
   ]
  },
  {
   "cell_type": "markdown",
   "id": "03b844d5",
   "metadata": {},
   "source": [
    "# Segregating Numeric & Categorical features"
   ]
  },
  {
   "cell_type": "code",
   "execution_count": 480,
   "id": "b329a381",
   "metadata": {},
   "outputs": [
    {
     "data": {
      "text/plain": [
       "['Rating', 'Reviews', 'Size']"
      ]
     },
     "execution_count": 480,
     "metadata": {},
     "output_type": "execute_result"
    }
   ],
   "source": [
    "num_col=[features for features in data_copy.columns if data_copy[features].dtypes!=\"O\"]\n",
    "num_col                        ##Data having 12 numeric features."
   ]
  },
  {
   "cell_type": "code",
   "execution_count": 481,
   "id": "24c8b6f4",
   "metadata": {},
   "outputs": [
    {
     "data": {
      "text/plain": [
       "['App',\n",
       " 'Category',\n",
       " 'Installs',\n",
       " 'Type',\n",
       " 'Price',\n",
       " 'Content Rating',\n",
       " 'Genres',\n",
       " 'Last Updated',\n",
       " 'Current Ver',\n",
       " 'Android Ver']"
      ]
     },
     "execution_count": 481,
     "metadata": {},
     "output_type": "execute_result"
    }
   ],
   "source": [
    "cat_col=[features for features in data_copy.columns if data_copy[features].dtypes==\"O\"]\n",
    "cat_col                           ## Data having only one categorical feature."
   ]
  },
  {
   "cell_type": "code",
   "execution_count": 482,
   "id": "47401c78",
   "metadata": {},
   "outputs": [
    {
     "data": {
      "text/plain": [
       "Index             86720\n",
       "App               86720\n",
       "Category          86720\n",
       "Rating            86720\n",
       "Reviews           86720\n",
       "Size              86720\n",
       "Installs          86720\n",
       "Type              86720\n",
       "Price             86720\n",
       "Content Rating    86720\n",
       "Genres            86720\n",
       "Last Updated      86720\n",
       "Current Ver       86720\n",
       "Android Ver       86720\n",
       "dtype: int64"
      ]
     },
     "execution_count": 482,
     "metadata": {},
     "output_type": "execute_result"
    }
   ],
   "source": [
    "data_copy.memory_usage()                                  "
   ]
  },
  {
   "cell_type": "code",
   "execution_count": 483,
   "id": "7598f24d",
   "metadata": {},
   "outputs": [
    {
     "data": {
      "text/plain": [
       "App                  0\n",
       "Category             0\n",
       "Rating            1474\n",
       "Reviews              0\n",
       "Size              1695\n",
       "Installs             0\n",
       "Type                 1\n",
       "Price                0\n",
       "Content Rating       0\n",
       "Genres               0\n",
       "Last Updated         0\n",
       "Current Ver          8\n",
       "Android Ver          2\n",
       "dtype: int64"
      ]
     },
     "execution_count": 483,
     "metadata": {},
     "output_type": "execute_result"
    }
   ],
   "source": [
    "data_copy.isnull().sum()                                 ##checking null calues in numeric features."
   ]
  },
  {
   "cell_type": "code",
   "execution_count": 484,
   "id": "8db75bae",
   "metadata": {},
   "outputs": [
    {
     "data": {
      "text/plain": [
       "Rating     -1.849695\n",
       "Reviews    16.449584\n",
       "Size        1.556477\n",
       "dtype: float64"
      ]
     },
     "execution_count": 484,
     "metadata": {},
     "output_type": "execute_result"
    }
   ],
   "source": [
    "data_copy[num_col].skew()                           ## checking skewness of Numeric Data."
   ]
  },
  {
   "cell_type": "code",
   "execution_count": 579,
   "id": "8d283fff",
   "metadata": {},
   "outputs": [],
   "source": [
    "data_copy['Size']=data_copy['Size'].str.replace('M','000')   #replacing M by numeric value to achieve the convertion of dtpe from object to int."
   ]
  },
  {
   "cell_type": "code",
   "execution_count": 578,
   "id": "3f2ba248",
   "metadata": {},
   "outputs": [],
   "source": [
    "data_copy['Size']=data_copy['Size'].str.replace('k',\"\") #replacing k by numeric value to achieve the convertion of dtpe from object to int."
   ]
  },
  {
   "cell_type": "code",
   "execution_count": 574,
   "id": "86ec5677",
   "metadata": {},
   "outputs": [],
   "source": [
    "k=data_copy['Size'].unique()          #we have proble with this 'Varies with device'"
   ]
  },
  {
   "cell_type": "code",
   "execution_count": 575,
   "id": "a19cf131",
   "metadata": {},
   "outputs": [
    {
     "data": {
      "text/plain": [
       "421"
      ]
     },
     "execution_count": 575,
     "metadata": {},
     "output_type": "execute_result"
    }
   ],
   "source": [
    "len(k)"
   ]
  },
  {
   "cell_type": "code",
   "execution_count": 535,
   "id": "b636370e",
   "metadata": {},
   "outputs": [],
   "source": [
    "data_copy['Size']=data_copy['Size'].str.replace('Varies with device',\"NaN\")"
   ]
  },
  {
   "cell_type": "code",
   "execution_count": 490,
   "id": "469e357f",
   "metadata": {},
   "outputs": [],
   "source": [
    "data_copy['Size']=data_copy['Size'].astype('float')"
   ]
  },
  {
   "cell_type": "code",
   "execution_count": 491,
   "id": "681a70ef",
   "metadata": {},
   "outputs": [
    {
     "data": {
      "text/plain": [
       "dtype('float64')"
      ]
     },
     "execution_count": 491,
     "metadata": {},
     "output_type": "execute_result"
    }
   ],
   "source": [
    "data_copy['Size'].dtype"
   ]
  },
  {
   "cell_type": "code",
   "execution_count": 492,
   "id": "706e8c00",
   "metadata": {},
   "outputs": [],
   "source": [
    "for i in data_copy['Size']:            \n",
    "    if i<10:                                              #Loop to balance the data by scaling.\n",
    "        data_copy['Size']=data_copy['Size'].replace(i,i*1000)"
   ]
  },
  {
   "cell_type": "code",
   "execution_count": 493,
   "id": "560847d9",
   "metadata": {},
   "outputs": [],
   "source": [
    "data_copy['Size']=data_copy['Size']/1000       #scaling the column  data_copy['Size']"
   ]
  },
  {
   "cell_type": "code",
   "execution_count": 494,
   "id": "d46527ed",
   "metadata": {},
   "outputs": [
    {
     "data": {
      "text/plain": [
       "1.9641495899398531"
      ]
     },
     "execution_count": 494,
     "metadata": {},
     "output_type": "execute_result"
    }
   ],
   "source": [
    "data_copy[\"Size\"].mean()      #finding mean of the column data_copy[\"Size\"]."
   ]
  },
  {
   "cell_type": "code",
   "execution_count": 532,
   "id": "777d8cf0",
   "metadata": {},
   "outputs": [],
   "source": [
    "data_copy[\"Size\"]=data_copy[\"Size\"].replace(\"NaN\",\"21.506534062329052\")       #None cell is replaced by data_copy[\"Size\"].mean()."
   ]
  },
  {
   "cell_type": "code",
   "execution_count": 533,
   "id": "95f11a52",
   "metadata": {},
   "outputs": [
    {
     "data": {
      "text/plain": [
       "9145"
      ]
     },
     "execution_count": 533,
     "metadata": {},
     "output_type": "execute_result"
    }
   ],
   "source": [
    "data_copy[\"Size\"].count()"
   ]
  },
  {
   "cell_type": "code",
   "execution_count": 497,
   "id": "edfb73ee",
   "metadata": {},
   "outputs": [
    {
     "data": {
      "text/plain": [
       "(10840, 13)"
      ]
     },
     "execution_count": 497,
     "metadata": {},
     "output_type": "execute_result"
    }
   ],
   "source": [
    "data_copy.shape"
   ]
  },
  {
   "cell_type": "code",
   "execution_count": 498,
   "id": "b932b30f",
   "metadata": {},
   "outputs": [
    {
     "data": {
      "text/html": [
       "<div>\n",
       "<style scoped>\n",
       "    .dataframe tbody tr th:only-of-type {\n",
       "        vertical-align: middle;\n",
       "    }\n",
       "\n",
       "    .dataframe tbody tr th {\n",
       "        vertical-align: top;\n",
       "    }\n",
       "\n",
       "    .dataframe thead th {\n",
       "        text-align: right;\n",
       "    }\n",
       "</style>\n",
       "<table border=\"1\" class=\"dataframe\">\n",
       "  <thead>\n",
       "    <tr style=\"text-align: right;\">\n",
       "      <th></th>\n",
       "      <th>App</th>\n",
       "      <th>Category</th>\n",
       "      <th>Rating</th>\n",
       "      <th>Reviews</th>\n",
       "      <th>Size</th>\n",
       "      <th>Installs</th>\n",
       "      <th>Type</th>\n",
       "      <th>Price</th>\n",
       "      <th>Content Rating</th>\n",
       "      <th>Genres</th>\n",
       "      <th>Last Updated</th>\n",
       "      <th>Current Ver</th>\n",
       "      <th>Android Ver</th>\n",
       "    </tr>\n",
       "  </thead>\n",
       "  <tbody>\n",
       "    <tr>\n",
       "      <th>0</th>\n",
       "      <td>Photo Editor &amp; Candy Camera &amp; Grid &amp; ScrapBook</td>\n",
       "      <td>ART_AND_DESIGN</td>\n",
       "      <td>4.1</td>\n",
       "      <td>159</td>\n",
       "      <td>0.019</td>\n",
       "      <td>10000</td>\n",
       "      <td>Free</td>\n",
       "      <td>0</td>\n",
       "      <td>Everyone</td>\n",
       "      <td>Art &amp; Design</td>\n",
       "      <td>January 7, 2018</td>\n",
       "      <td>1.0.0</td>\n",
       "      <td>4.0.3 and up</td>\n",
       "    </tr>\n",
       "    <tr>\n",
       "      <th>1</th>\n",
       "      <td>Coloring book moana</td>\n",
       "      <td>ART_AND_DESIGN</td>\n",
       "      <td>3.9</td>\n",
       "      <td>967</td>\n",
       "      <td>0.014</td>\n",
       "      <td>500000</td>\n",
       "      <td>Free</td>\n",
       "      <td>0</td>\n",
       "      <td>Everyone</td>\n",
       "      <td>Art &amp; Design;Pretend Play</td>\n",
       "      <td>January 15, 2018</td>\n",
       "      <td>2.0.0</td>\n",
       "      <td>4.0.3 and up</td>\n",
       "    </tr>\n",
       "    <tr>\n",
       "      <th>2</th>\n",
       "      <td>U Launcher Lite – FREE Live Cool Themes, Hide ...</td>\n",
       "      <td>ART_AND_DESIGN</td>\n",
       "      <td>4.7</td>\n",
       "      <td>87510</td>\n",
       "      <td>8.700</td>\n",
       "      <td>5000000</td>\n",
       "      <td>Free</td>\n",
       "      <td>0</td>\n",
       "      <td>Everyone</td>\n",
       "      <td>Art &amp; Design</td>\n",
       "      <td>August 1, 2018</td>\n",
       "      <td>1.2.4</td>\n",
       "      <td>4.0.3 and up</td>\n",
       "    </tr>\n",
       "    <tr>\n",
       "      <th>3</th>\n",
       "      <td>Sketch - Draw &amp; Paint</td>\n",
       "      <td>ART_AND_DESIGN</td>\n",
       "      <td>4.5</td>\n",
       "      <td>215644</td>\n",
       "      <td>0.025</td>\n",
       "      <td>50000000</td>\n",
       "      <td>Free</td>\n",
       "      <td>0</td>\n",
       "      <td>Teen</td>\n",
       "      <td>Art &amp; Design</td>\n",
       "      <td>June 8, 2018</td>\n",
       "      <td>Varies with device</td>\n",
       "      <td>4.2 and up</td>\n",
       "    </tr>\n",
       "    <tr>\n",
       "      <th>4</th>\n",
       "      <td>Pixel Draw - Number Art Coloring Book</td>\n",
       "      <td>ART_AND_DESIGN</td>\n",
       "      <td>4.3</td>\n",
       "      <td>967</td>\n",
       "      <td>2.800</td>\n",
       "      <td>100000</td>\n",
       "      <td>Free</td>\n",
       "      <td>0</td>\n",
       "      <td>Everyone</td>\n",
       "      <td>Art &amp; Design;Creativity</td>\n",
       "      <td>June 20, 2018</td>\n",
       "      <td>1.1</td>\n",
       "      <td>4.4 and up</td>\n",
       "    </tr>\n",
       "  </tbody>\n",
       "</table>\n",
       "</div>"
      ],
      "text/plain": [
       "                                                 App        Category  Rating  \\\n",
       "0     Photo Editor & Candy Camera & Grid & ScrapBook  ART_AND_DESIGN     4.1   \n",
       "1                                Coloring book moana  ART_AND_DESIGN     3.9   \n",
       "2  U Launcher Lite – FREE Live Cool Themes, Hide ...  ART_AND_DESIGN     4.7   \n",
       "3                              Sketch - Draw & Paint  ART_AND_DESIGN     4.5   \n",
       "4              Pixel Draw - Number Art Coloring Book  ART_AND_DESIGN     4.3   \n",
       "\n",
       "   Reviews   Size  Installs  Type Price Content Rating  \\\n",
       "0      159  0.019     10000  Free     0       Everyone   \n",
       "1      967  0.014    500000  Free     0       Everyone   \n",
       "2    87510  8.700   5000000  Free     0       Everyone   \n",
       "3   215644  0.025  50000000  Free     0           Teen   \n",
       "4      967  2.800    100000  Free     0       Everyone   \n",
       "\n",
       "                      Genres      Last Updated         Current Ver  \\\n",
       "0               Art & Design   January 7, 2018               1.0.0   \n",
       "1  Art & Design;Pretend Play  January 15, 2018               2.0.0   \n",
       "2               Art & Design    August 1, 2018               1.2.4   \n",
       "3               Art & Design      June 8, 2018  Varies with device   \n",
       "4    Art & Design;Creativity     June 20, 2018                 1.1   \n",
       "\n",
       "    Android Ver  \n",
       "0  4.0.3 and up  \n",
       "1  4.0.3 and up  \n",
       "2  4.0.3 and up  \n",
       "3    4.2 and up  \n",
       "4    4.4 and up  "
      ]
     },
     "execution_count": 498,
     "metadata": {},
     "output_type": "execute_result"
    }
   ],
   "source": [
    "data_copy.head()"
   ]
  },
  {
   "cell_type": "code",
   "execution_count": 499,
   "id": "bf3a451b",
   "metadata": {},
   "outputs": [
    {
     "data": {
      "text/plain": [
       "dtype('O')"
      ]
     },
     "execution_count": 499,
     "metadata": {},
     "output_type": "execute_result"
    }
   ],
   "source": [
    "data_copy['Installs'].dtypes             #we have to change the dtype and remove the special characters."
   ]
  },
  {
   "cell_type": "code",
   "execution_count": 500,
   "id": "5d2ed1a6",
   "metadata": {},
   "outputs": [
    {
     "data": {
      "text/plain": [
       "array(['10,000+', '500,000+', '5,000,000+', '50,000,000+', '100,000+',\n",
       "       '50,000+', '1,000,000+', '10,000,000+', '5,000+', '100,000,000+',\n",
       "       '1,000,000,000+', '1,000+', '500,000,000+', '50+', '100+', '500+',\n",
       "       '10+', '1+', '5+', '0+', '0', 'Free'], dtype=object)"
      ]
     },
     "execution_count": 500,
     "metadata": {},
     "output_type": "execute_result"
    }
   ],
   "source": [
    "data['Installs'].unique()"
   ]
  },
  {
   "cell_type": "code",
   "execution_count": 501,
   "id": "219b5ea6",
   "metadata": {},
   "outputs": [
    {
     "data": {
      "text/plain": [
       "array(['0', '$4.99', '$3.99', '$6.99', '$1.49', '$2.99', '$7.99', '$5.99',\n",
       "       '$3.49', '$1.99', '$9.99', '$7.49', '$0.99', '$9.00', '$5.49',\n",
       "       '$10.00', '$24.99', '$11.99', '$79.99', '$16.99', '$14.99',\n",
       "       '$1.00', '$29.99', '$12.99', '$2.49', '$10.99', '$1.50', '$19.99',\n",
       "       '$15.99', '$33.99', '$74.99', '$39.99', '$3.95', '$4.49', '$1.70',\n",
       "       '$8.99', '$2.00', '$3.88', '$25.99', '$399.99', '$17.99',\n",
       "       '$400.00', '$3.02', '$1.76', '$4.84', '$4.77', '$1.61', '$2.50',\n",
       "       '$1.59', '$6.49', '$1.29', '$5.00', '$13.99', '$299.99', '$379.99',\n",
       "       '$37.99', '$18.99', '$389.99', '$19.90', '$8.49', '$1.75',\n",
       "       '$14.00', '$4.85', '$46.99', '$109.99', '$154.99', '$3.08',\n",
       "       '$2.59', '$4.80', '$1.96', '$19.40', '$3.90', '$4.59', '$15.46',\n",
       "       '$3.04', '$4.29', '$2.60', '$3.28', '$4.60', '$28.99', '$2.95',\n",
       "       '$2.90', '$1.97', '$200.00', '$89.99', '$2.56', '$30.99', '$3.61',\n",
       "       '$394.99', '$1.26', 'Everyone', '$1.20', '$1.04'], dtype=object)"
      ]
     },
     "execution_count": 501,
     "metadata": {},
     "output_type": "execute_result"
    }
   ],
   "source": [
    "data['Price'].unique()"
   ]
  },
  {
   "cell_type": "code",
   "execution_count": 502,
   "id": "71f5d788",
   "metadata": {},
   "outputs": [],
   "source": [
    "character=['$',',',\"+\"]\n",
    "column=['Installs','Price']            \n",
    "for i in character:                       #Loop to remove these characters ['$',',',\"+\"] w.r.t these columns['Installs','Price'].\n",
    "    for j in column:\n",
    "        data_copy[j]=data_copy[j].str.replace(i,'')"
   ]
  },
  {
   "cell_type": "code",
   "execution_count": 503,
   "id": "f276b009",
   "metadata": {},
   "outputs": [
    {
     "data": {
      "text/plain": [
       "array(['10000', '500000', '5000000', '50000000', '100000', '50000',\n",
       "       '1000000', '10000000', '5000', '100000000', '1000000000', '1000',\n",
       "       '500000000', '50', '100', '500', '10', '1', '5', '0'], dtype=object)"
      ]
     },
     "execution_count": 503,
     "metadata": {},
     "output_type": "execute_result"
    }
   ],
   "source": [
    "data_copy['Installs'].unique()              #cleaned column."
   ]
  },
  {
   "cell_type": "code",
   "execution_count": 504,
   "id": "c235b0ce",
   "metadata": {},
   "outputs": [
    {
     "data": {
      "text/plain": [
       "array(['0', '4.99', '3.99', '6.99', '1.49', '2.99', '7.99', '5.99',\n",
       "       '3.49', '1.99', '9.99', '7.49', '0.99', '9.00', '5.49', '10.00',\n",
       "       '24.99', '11.99', '79.99', '16.99', '14.99', '1.00', '29.99',\n",
       "       '12.99', '2.49', '10.99', '1.50', '19.99', '15.99', '33.99',\n",
       "       '74.99', '39.99', '3.95', '4.49', '1.70', '8.99', '2.00', '3.88',\n",
       "       '25.99', '399.99', '17.99', '400.00', '3.02', '1.76', '4.84',\n",
       "       '4.77', '1.61', '2.50', '1.59', '6.49', '1.29', '5.00', '13.99',\n",
       "       '299.99', '379.99', '37.99', '18.99', '389.99', '19.90', '8.49',\n",
       "       '1.75', '14.00', '4.85', '46.99', '109.99', '154.99', '3.08',\n",
       "       '2.59', '4.80', '1.96', '19.40', '3.90', '4.59', '15.46', '3.04',\n",
       "       '4.29', '2.60', '3.28', '4.60', '28.99', '2.95', '2.90', '1.97',\n",
       "       '200.00', '89.99', '2.56', '30.99', '3.61', '394.99', '1.26',\n",
       "       '1.20', '1.04'], dtype=object)"
      ]
     },
     "execution_count": 504,
     "metadata": {},
     "output_type": "execute_result"
    }
   ],
   "source": [
    "data_copy['Price'].unique()                      ##cleaned column."
   ]
  },
  {
   "cell_type": "code",
   "execution_count": 515,
   "id": "7003c32e",
   "metadata": {},
   "outputs": [
    {
     "data": {
      "text/plain": [
       "dtype('int32')"
      ]
     },
     "execution_count": 515,
     "metadata": {},
     "output_type": "execute_result"
    }
   ],
   "source": [
    "data_copy['Installs']=data_copy['Installs'].astype('int')   #converting dtype of (data_copy['Installs']) to 'int'.\n",
    "data_copy['Installs'].dtypes"
   ]
  },
  {
   "cell_type": "code",
   "execution_count": 514,
   "id": "7b30a34f",
   "metadata": {},
   "outputs": [
    {
     "data": {
      "text/plain": [
       "dtype('float64')"
      ]
     },
     "execution_count": 514,
     "metadata": {},
     "output_type": "execute_result"
    }
   ],
   "source": [
    "data_copy['Price']=data_copy['Price'].astype('float')         #converting dtype of (data_copy['Price']) to float.\n",
    "data_copy['Price'].dtypes"
   ]
  },
  {
   "cell_type": "code",
   "execution_count": 519,
   "id": "5c7edfdd",
   "metadata": {},
   "outputs": [
    {
     "data": {
      "text/plain": [
       "dtype('<M8[ns]')"
      ]
     },
     "execution_count": 519,
     "metadata": {},
     "output_type": "execute_result"
    }
   ],
   "source": [
    "data_copy['Last Updated']=pd.to_datetime(data_copy['Last Updated'])\n",
    "data_copy['Last Updated'].dtypes"
   ]
  },
  {
   "cell_type": "code",
   "execution_count": 524,
   "id": "5b689c13",
   "metadata": {},
   "outputs": [],
   "source": [
    "data_copy['Last Updated'].dt.day\n",
    "data_copy['Last Updated'].dt.month                #converting dtype of (data_copy['Last Updated']) to Datetime.\n",
    "data_copy['Year']=data_copy['Last Updated'].dt.year"
   ]
  },
  {
   "cell_type": "code",
   "execution_count": 527,
   "id": "a89610c8",
   "metadata": {},
   "outputs": [
    {
     "data": {
      "text/html": [
       "<div>\n",
       "<style scoped>\n",
       "    .dataframe tbody tr th:only-of-type {\n",
       "        vertical-align: middle;\n",
       "    }\n",
       "\n",
       "    .dataframe tbody tr th {\n",
       "        vertical-align: top;\n",
       "    }\n",
       "\n",
       "    .dataframe thead th {\n",
       "        text-align: right;\n",
       "    }\n",
       "</style>\n",
       "<table border=\"1\" class=\"dataframe\">\n",
       "  <thead>\n",
       "    <tr style=\"text-align: right;\">\n",
       "      <th></th>\n",
       "      <th>App</th>\n",
       "      <th>Category</th>\n",
       "      <th>Rating</th>\n",
       "      <th>Reviews</th>\n",
       "      <th>Size</th>\n",
       "      <th>Installs</th>\n",
       "      <th>Type</th>\n",
       "      <th>Price</th>\n",
       "      <th>Content Rating</th>\n",
       "      <th>Genres</th>\n",
       "      <th>Last Updated</th>\n",
       "      <th>Current Ver</th>\n",
       "      <th>Android Ver</th>\n",
       "      <th>Year</th>\n",
       "    </tr>\n",
       "  </thead>\n",
       "  <tbody>\n",
       "    <tr>\n",
       "      <th>0</th>\n",
       "      <td>Photo Editor &amp; Candy Camera &amp; Grid &amp; ScrapBook</td>\n",
       "      <td>ART_AND_DESIGN</td>\n",
       "      <td>4.1</td>\n",
       "      <td>159</td>\n",
       "      <td>0.019</td>\n",
       "      <td>10000</td>\n",
       "      <td>Free</td>\n",
       "      <td>0.0</td>\n",
       "      <td>Everyone</td>\n",
       "      <td>Art &amp; Design</td>\n",
       "      <td>2018-01-07</td>\n",
       "      <td>1.0.0</td>\n",
       "      <td>4.0.3 and up</td>\n",
       "      <td>2018</td>\n",
       "    </tr>\n",
       "    <tr>\n",
       "      <th>1</th>\n",
       "      <td>Coloring book moana</td>\n",
       "      <td>ART_AND_DESIGN</td>\n",
       "      <td>3.9</td>\n",
       "      <td>967</td>\n",
       "      <td>0.014</td>\n",
       "      <td>500000</td>\n",
       "      <td>Free</td>\n",
       "      <td>0.0</td>\n",
       "      <td>Everyone</td>\n",
       "      <td>Art &amp; Design;Pretend Play</td>\n",
       "      <td>2018-01-15</td>\n",
       "      <td>2.0.0</td>\n",
       "      <td>4.0.3 and up</td>\n",
       "      <td>2018</td>\n",
       "    </tr>\n",
       "    <tr>\n",
       "      <th>2</th>\n",
       "      <td>U Launcher Lite – FREE Live Cool Themes, Hide ...</td>\n",
       "      <td>ART_AND_DESIGN</td>\n",
       "      <td>4.7</td>\n",
       "      <td>87510</td>\n",
       "      <td>8.700</td>\n",
       "      <td>5000000</td>\n",
       "      <td>Free</td>\n",
       "      <td>0.0</td>\n",
       "      <td>Everyone</td>\n",
       "      <td>Art &amp; Design</td>\n",
       "      <td>2018-08-01</td>\n",
       "      <td>1.2.4</td>\n",
       "      <td>4.0.3 and up</td>\n",
       "      <td>2018</td>\n",
       "    </tr>\n",
       "    <tr>\n",
       "      <th>3</th>\n",
       "      <td>Sketch - Draw &amp; Paint</td>\n",
       "      <td>ART_AND_DESIGN</td>\n",
       "      <td>4.5</td>\n",
       "      <td>215644</td>\n",
       "      <td>0.025</td>\n",
       "      <td>50000000</td>\n",
       "      <td>Free</td>\n",
       "      <td>0.0</td>\n",
       "      <td>Teen</td>\n",
       "      <td>Art &amp; Design</td>\n",
       "      <td>2018-06-08</td>\n",
       "      <td>Varies with device</td>\n",
       "      <td>4.2 and up</td>\n",
       "      <td>2018</td>\n",
       "    </tr>\n",
       "    <tr>\n",
       "      <th>4</th>\n",
       "      <td>Pixel Draw - Number Art Coloring Book</td>\n",
       "      <td>ART_AND_DESIGN</td>\n",
       "      <td>4.3</td>\n",
       "      <td>967</td>\n",
       "      <td>2.800</td>\n",
       "      <td>100000</td>\n",
       "      <td>Free</td>\n",
       "      <td>0.0</td>\n",
       "      <td>Everyone</td>\n",
       "      <td>Art &amp; Design;Creativity</td>\n",
       "      <td>2018-06-20</td>\n",
       "      <td>1.1</td>\n",
       "      <td>4.4 and up</td>\n",
       "      <td>2018</td>\n",
       "    </tr>\n",
       "  </tbody>\n",
       "</table>\n",
       "</div>"
      ],
      "text/plain": [
       "                                                 App        Category  Rating  \\\n",
       "0     Photo Editor & Candy Camera & Grid & ScrapBook  ART_AND_DESIGN     4.1   \n",
       "1                                Coloring book moana  ART_AND_DESIGN     3.9   \n",
       "2  U Launcher Lite – FREE Live Cool Themes, Hide ...  ART_AND_DESIGN     4.7   \n",
       "3                              Sketch - Draw & Paint  ART_AND_DESIGN     4.5   \n",
       "4              Pixel Draw - Number Art Coloring Book  ART_AND_DESIGN     4.3   \n",
       "\n",
       "   Reviews   Size  Installs  Type  Price Content Rating  \\\n",
       "0      159  0.019     10000  Free    0.0       Everyone   \n",
       "1      967  0.014    500000  Free    0.0       Everyone   \n",
       "2    87510  8.700   5000000  Free    0.0       Everyone   \n",
       "3   215644  0.025  50000000  Free    0.0           Teen   \n",
       "4      967  2.800    100000  Free    0.0       Everyone   \n",
       "\n",
       "                      Genres Last Updated         Current Ver   Android Ver  \\\n",
       "0               Art & Design   2018-01-07               1.0.0  4.0.3 and up   \n",
       "1  Art & Design;Pretend Play   2018-01-15               2.0.0  4.0.3 and up   \n",
       "2               Art & Design   2018-08-01               1.2.4  4.0.3 and up   \n",
       "3               Art & Design   2018-06-08  Varies with device    4.2 and up   \n",
       "4    Art & Design;Creativity   2018-06-20                 1.1    4.4 and up   \n",
       "\n",
       "   Year  \n",
       "0  2018  \n",
       "1  2018  \n",
       "2  2018  \n",
       "3  2018  \n",
       "4  2018  "
      ]
     },
     "execution_count": 527,
     "metadata": {},
     "output_type": "execute_result"
    }
   ],
   "source": [
    "data_copy.head()"
   ]
  },
  {
   "cell_type": "code",
   "execution_count": 528,
   "id": "a2ac5413",
   "metadata": {},
   "outputs": [],
   "source": [
    "data_copy.to_csv(\"Google_playstore_cleaned.csv\",index=False)  #i am saving this cleaned dataset to physical file(csv)."
   ]
  },
  {
   "cell_type": "code",
   "execution_count": 530,
   "id": "fa02baea",
   "metadata": {},
   "outputs": [],
   "source": [
    "k=pd.read_csv(\"Google_playstore_cleaned.csv\") #again reading cleaned dataset."
   ]
  },
  {
   "cell_type": "code",
   "execution_count": 531,
   "id": "8ea7c67c",
   "metadata": {},
   "outputs": [
    {
     "name": "stdout",
     "output_type": "stream",
     "text": [
      "<class 'pandas.core.frame.DataFrame'>\n",
      "RangeIndex: 10840 entries, 0 to 10839\n",
      "Data columns (total 14 columns):\n",
      " #   Column          Non-Null Count  Dtype  \n",
      "---  ------          --------------  -----  \n",
      " 0   App             10840 non-null  object \n",
      " 1   Category        10840 non-null  object \n",
      " 2   Rating          9366 non-null   float64\n",
      " 3   Reviews         10840 non-null  int64  \n",
      " 4   Size            9145 non-null   float64\n",
      " 5   Installs        10840 non-null  int64  \n",
      " 6   Type            10839 non-null  object \n",
      " 7   Price           10840 non-null  float64\n",
      " 8   Content Rating  10840 non-null  object \n",
      " 9   Genres          10840 non-null  object \n",
      " 10  Last Updated    10840 non-null  object \n",
      " 11  Current Ver     10832 non-null  object \n",
      " 12  Android Ver     10838 non-null  object \n",
      " 13  Year            10840 non-null  int64  \n",
      "dtypes: float64(3), int64(3), object(8)\n",
      "memory usage: 1.2+ MB\n"
     ]
    }
   ],
   "source": [
    "k.info()"
   ]
  },
  {
   "cell_type": "code",
   "execution_count": null,
   "id": "a4f8e529",
   "metadata": {},
   "outputs": [],
   "source": []
  }
 ],
 "metadata": {
  "kernelspec": {
   "display_name": "Python 3 (ipykernel)",
   "language": "python",
   "name": "python3"
  },
  "language_info": {
   "codemirror_mode": {
    "name": "ipython",
    "version": 3
   },
   "file_extension": ".py",
   "mimetype": "text/x-python",
   "name": "python",
   "nbconvert_exporter": "python",
   "pygments_lexer": "ipython3",
   "version": "3.9.12"
  }
 },
 "nbformat": 4,
 "nbformat_minor": 5
}
